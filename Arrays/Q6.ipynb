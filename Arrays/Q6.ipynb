{
 "cells": [
  {
   "cell_type": "markdown",
   "metadata": {},
   "source": [
    "## Cyclically rotate an array by k"
   ]
  },
  {
   "cell_type": "code",
   "execution_count": null,
   "metadata": {},
   "outputs": [],
   "source": [
    "#CP code\n",
    "from sys import stdin, stdout\n",
    "\n",
    "def CycleRotate(arr, k, n):\n",
    "    if k == n:\n",
    "        return arr\n",
    "    \n",
    "    elif k > n:\n",
    "        return 0\n",
    "    \n",
    "    else:\n",
    "        return arr[-k:] + arr[:-k]\n",
    "    \n",
    "if __name__ == \"__main__\":\n",
    "    input = stdin.read().strip().splitlines()\n",
    "    \n",
    "    n = int(input[0])\n",
    "    arr = list(map(int, input[1].strip().split()))\n",
    "    k = int(input[2])\n",
    "    \n",
    "    result = CycleRotate(arr, k, n)\n",
    "    \n",
    "    print(\" \".join(map(str, result)))\n",
    "    "
   ]
  },
  {
   "cell_type": "code",
   "execution_count": 1,
   "metadata": {},
   "outputs": [
    {
     "name": "stdout",
     "output_type": "stream",
     "text": [
      "4 5 1 2 3\n"
     ]
    }
   ],
   "source": [
    "#User code\n",
    "\n",
    "def CycleRotate(arr, k, n):\n",
    "    if k == n:\n",
    "        return arr\n",
    "    \n",
    "    elif k > n:\n",
    "        return 0\n",
    "    \n",
    "    else:\n",
    "        return arr[-k:] + arr[:-k]\n",
    "    \n",
    "if __name__ == \"__main__\":\n",
    "    n = int(input())\n",
    "    arr = list(map(int, input().strip().split()))\n",
    "    k = int(input())\n",
    "    \n",
    "    result = CycleRotate(arr, k, n)\n",
    "    \n",
    "    print(\" \".join(map(str, result)))"
   ]
  }
 ],
 "metadata": {
  "kernelspec": {
   "display_name": "DSA",
   "language": "python",
   "name": "python3"
  },
  "language_info": {
   "codemirror_mode": {
    "name": "ipython",
    "version": 3
   },
   "file_extension": ".py",
   "mimetype": "text/x-python",
   "name": "python",
   "nbconvert_exporter": "python",
   "pygments_lexer": "ipython3",
   "version": "3.12.7"
  }
 },
 "nbformat": 4,
 "nbformat_minor": 2
}
