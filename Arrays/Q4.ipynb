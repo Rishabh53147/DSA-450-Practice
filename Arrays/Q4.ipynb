{
 "cells": [
  {
   "cell_type": "markdown",
   "metadata": {},
   "source": [
    "## Move all the negative numbers to one side in an Array"
   ]
  },
  {
   "cell_type": "code",
   "execution_count": 3,
   "metadata": {},
   "outputs": [
    {
     "name": "stdout",
     "output_type": "stream",
     "text": [
      "2 0 -3 -2 -1\n"
     ]
    }
   ],
   "source": [
    "## User code\n",
    "from sys import stdin, stdout\n",
    "\n",
    "def MoveNegative(arr, n):\n",
    "    low = 0\n",
    "    high = n -1\n",
    "    \n",
    "    while low < high:\n",
    "        if arr[low] < 0:\n",
    "            arr[low], arr[high] = arr[high], arr[low]\n",
    "            low += 1\n",
    "            high -= 1\n",
    "            \n",
    "        elif arr[high] > 0:\n",
    "            high -= 1\n",
    "            \n",
    "        else:\n",
    "            low += 1\n",
    "            \n",
    "    return arr\n",
    "\n",
    "if __name__ == \"__main__\":\n",
    "    n = int(input())\n",
    "    arr = list(map(int, input().strip().split())) \n",
    "    \n",
    "    result = MoveNegative(arr, n)\n",
    "    \n",
    "    print(\" \".join(map(str, result)))\n",
    "\n"
   ]
  },
  {
   "cell_type": "code",
   "execution_count": null,
   "metadata": {},
   "outputs": [],
   "source": [
    "## CP code\n",
    "\n",
    "def MoveNegative(arr, n):\n",
    "    low = 0\n",
    "    high = n -1\n",
    "    \n",
    "    while low <= high:\n",
    "        if arr[low] < 0:\n",
    "            arr[low], arr[high] = arr[high], arr[low]\n",
    "            low += 1\n",
    "            high -= 1\n",
    "            \n",
    "        elif arr[high] > 0:\n",
    "            high -= 1\n",
    "            \n",
    "        else:\n",
    "            low += 1\n",
    "            \n",
    "    return arr\n",
    "\n",
    "if __name__ == \"__main__\":\n",
    "    input = stdin.read().strip().splitlines()\n",
    "    n = int(input[0])\n",
    "    arr = list(map(int, input[1].strip().split())) \n",
    "    \n",
    "    result = MoveNegative(arr, n)\n",
    "    \n",
    "    print(\" \".join(map(int, result)))\n",
    "\n"
   ]
  }
 ],
 "metadata": {
  "kernelspec": {
   "display_name": "DSA",
   "language": "python",
   "name": "python3"
  },
  "language_info": {
   "codemirror_mode": {
    "name": "ipython",
    "version": 3
   },
   "file_extension": ".py",
   "mimetype": "text/x-python",
   "name": "python",
   "nbconvert_exporter": "python",
   "pygments_lexer": "ipython3",
   "version": "3.12.7"
  }
 },
 "nbformat": 4,
 "nbformat_minor": 2
}
