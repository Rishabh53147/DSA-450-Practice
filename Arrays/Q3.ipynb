{
 "cells": [
  {
   "cell_type": "markdown",
   "metadata": {},
   "source": [
    "## SORT AN ARRAY OF 0s, 1s and 2s in asccending Order without using any sorting Algorithms"
   ]
  },
  {
   "cell_type": "code",
   "execution_count": null,
   "metadata": {},
   "outputs": [],
   "source": [
    "##CP code\n",
    "from sys import stdin, stdout\n",
    "\n",
    "def NosortButSort(arr, n):\n",
    "    low = 0\n",
    "    mid = 0\n",
    "    high = n - 1\n",
    "    \n",
    "    while mid <= high:\n",
    "        if arr[mid] == 0:\n",
    "            arr[low], arr[mid] = arr[mid], arr[low]\n",
    "            low += 1\n",
    "            mid += 1\n",
    "        \n",
    "        elif arr[mid] == 1:\n",
    "            mid += 1\n",
    "            \n",
    "        else:\n",
    "            arr[high], arr[mid] = arr[mid], arr[high]\n",
    "            high -= 1\n",
    "            \n",
    "    return arr\n",
    "\n",
    "if __name__ == \"__main__\":\n",
    "    input = stdin.read().strip().splitlines()\n",
    "    n = int(input[0])\n",
    "    arr = list(map(int, input[1].strip().split()))\n",
    "    \n",
    "    result = NosortButSort(arr, n)\n",
    "    \n",
    "    print(\" \".join(map(str, result)))"
   ]
  },
  {
   "cell_type": "code",
   "execution_count": null,
   "metadata": {},
   "outputs": [
    {
     "name": "stdout",
     "output_type": "stream",
     "text": [
      "0 0 0 1 1 2 2\n"
     ]
    }
   ],
   "source": [
    "##User code\n",
    "from sys import stdin, stdout\n",
    "\n",
    "def NosortButSort(arr, n):\n",
    "    low = 0\n",
    "    mid = 0\n",
    "    high = n - 1\n",
    "    \n",
    "    while mid <= high:\n",
    "        if arr[mid] == 0:\n",
    "            arr[low], arr[mid] = arr[mid], arr[low]\n",
    "            low += 1\n",
    "            mid += 1\n",
    "        \n",
    "        elif arr[mid] == 1:\n",
    "            mid += 1\n",
    "            \n",
    "        else:\n",
    "            arr[high], arr[mid] = arr[mid], arr[high]\n",
    "            high -= 1\n",
    "            \n",
    "    return arr\n",
    "\n",
    "if __name__ == \"__main__\":\n",
    "    n = int(input())\n",
    "    arr_input = input()\n",
    "    arr = list(map(int, arr_input.strip().split()))\n",
    "    \n",
    "    result = NosortButSort(arr, n)\n",
    "    \n",
    "    print(\" \".join(map(str, result)))"
   ]
  }
 ],
 "metadata": {
  "kernelspec": {
   "display_name": "DSA",
   "language": "python",
   "name": "python3"
  },
  "language_info": {
   "codemirror_mode": {
    "name": "ipython",
    "version": 3
   },
   "file_extension": ".py",
   "mimetype": "text/x-python",
   "name": "python",
   "nbconvert_exporter": "python",
   "pygments_lexer": "ipython3",
   "version": "3.12.7"
  }
 },
 "nbformat": 4,
 "nbformat_minor": 2
}
