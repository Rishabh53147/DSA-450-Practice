{
 "cells": [
  {
   "cell_type": "markdown",
   "metadata": {},
   "source": [
    "## REVERSE AN ARRAY"
   ]
  },
  {
   "cell_type": "code",
   "execution_count": null,
   "metadata": {},
   "outputs": [],
   "source": [
    "## CP Code\n",
    "\n",
    "from sys import stdin, stdout \n",
    "def ReverseArray(arr):\n",
    "    head = 0\n",
    "    tail = len(arr) - 1\n",
    "    \n",
    "    while (head < tail):\n",
    "        arr[head], arr[tail] = arr[tail], arr[head]\n",
    "        head += 1\n",
    "        tail -= 1\n",
    "        \n",
    "    return arr\n",
    "\n",
    "if __name__ == \"__main__\":\n",
    "    arr = list(map(int, stdin.read().strip().split()))\n",
    "    \n",
    "    reverse_arr = ReverseArray(arr)\n",
    "    \n",
    "    print(\" \".join(map(str, reverse_arr)))\n",
    "    \n",
    "        \n",
    "        "
   ]
  },
  {
   "cell_type": "code",
   "execution_count": null,
   "metadata": {},
   "outputs": [
    {
     "name": "stdout",
     "output_type": "stream",
     "text": [
      "3 5 3 2 1\n"
     ]
    }
   ],
   "source": [
    "## User Code\n",
    "def ReverseArray(arr):\n",
    "    head = 0\n",
    "    tail = len(arr) - 1\n",
    "    \n",
    "    while (head < tail):\n",
    "        arr[head], arr[tail] = arr[tail], arr[head]\n",
    "        head += 1\n",
    "        tail -= 1\n",
    "        \n",
    "    return arr\n",
    "\n",
    "if __name__ == \"__main__\":\n",
    "    arr = list(map(int, input().strip().split()))\n",
    "    \n",
    "    reverse_arr = ReverseArray(arr)\n",
    "    \n",
    "    print(\" \".join(map(str, reverse_arr)))"
   ]
  }
 ],
 "metadata": {
  "kernelspec": {
   "display_name": "DSA",
   "language": "python",
   "name": "python3"
  },
  "language_info": {
   "codemirror_mode": {
    "name": "ipython",
    "version": 3
   },
   "file_extension": ".py",
   "mimetype": "text/x-python",
   "name": "python",
   "nbconvert_exporter": "python",
   "pygments_lexer": "ipython3",
   "version": "3.12.7"
  }
 },
 "nbformat": 4,
 "nbformat_minor": 2
}
