{
 "cells": [
  {
   "cell_type": "markdown",
   "metadata": {},
   "source": [
    "## FIND THE LARGEST AND SMALLEST ELEMENT IN AN ARRAY"
   ]
  },
  {
   "cell_type": "code",
   "execution_count": null,
   "metadata": {},
   "outputs": [],
   "source": [
    "## CP Code\n",
    "from sys import stdin, stdout\n",
    "\n",
    "def BubbleSort(arr, n=None):\n",
    "    if n is None:\n",
    "        n = len(arr)\n",
    "\n",
    "    if n <= 1:\n",
    "        return\n",
    "    \n",
    "    for i in range(n - 1):\n",
    "        if arr[i] > arr[i + 1]:\n",
    "            arr[i], arr[i + 1] = arr[i + 1], arr[i]\n",
    "    \n",
    "    BubbleSort(arr, n - 1)\n",
    "\n",
    "def largest_and_smallest(arr):\n",
    "    BubbleSort(arr)\n",
    "    \n",
    "    smallest = arr[0]\n",
    "    largest = arr[-1]\n",
    "    \n",
    "    return [smallest, largest]\n",
    "\n",
    "if __name__ == \"__main__\":\n",
    "    arr = list(map(int, stdin.read().strip().split()))\n",
    "\n",
    "    result = largest_and_smallest(arr)\n",
    "\n",
    "    print(\" \".join(map(str, result)))\n"
   ]
  },
  {
   "cell_type": "code",
   "execution_count": 1,
   "metadata": {},
   "outputs": [
    {
     "name": "stdout",
     "output_type": "stream",
     "text": [
      "11 80\n"
     ]
    }
   ],
   "source": [
    "## User Code\n",
    "from sys import stdin, stdout\n",
    "\n",
    "def BubbleSort(arr, n=None):\n",
    "    if n is None:\n",
    "        n = len(arr)\n",
    "\n",
    "    if n <= 1:\n",
    "        return\n",
    "    \n",
    "    for i in range(n - 1):\n",
    "        if arr[i] > arr[i + 1]:\n",
    "            arr[i], arr[i + 1] = arr[i + 1], arr[i]\n",
    "    \n",
    "    BubbleSort(arr, n - 1)\n",
    "\n",
    "def largest_and_smallest(arr):\n",
    "    BubbleSort(arr)\n",
    "    \n",
    "    smallest = arr[0]\n",
    "    largest = arr[-1]\n",
    "    \n",
    "    return [smallest, largest]\n",
    "\n",
    "if __name__ == \"__main__\":\n",
    "    arr = list(map(int, input().strip().split()))\n",
    "\n",
    "    result = largest_and_smallest(arr)\n",
    "\n",
    "    print(\" \".join(map(str, result)))\n"
   ]
  }
 ],
 "metadata": {
  "kernelspec": {
   "display_name": "DSA",
   "language": "python",
   "name": "python3"
  },
  "language_info": {
   "codemirror_mode": {
    "name": "ipython",
    "version": 3
   },
   "file_extension": ".py",
   "mimetype": "text/x-python",
   "name": "python",
   "nbconvert_exporter": "python",
   "pygments_lexer": "ipython3",
   "version": "3.12.7"
  }
 },
 "nbformat": 4,
 "nbformat_minor": 2
}
