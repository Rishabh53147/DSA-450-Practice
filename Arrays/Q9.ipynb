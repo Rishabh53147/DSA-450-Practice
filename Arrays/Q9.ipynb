{
 "cells": [
  {
   "cell_type": "markdown",
   "metadata": {},
   "source": [
    "## Minimum no. of jumps to reach the end of array"
   ]
  },
  {
   "cell_type": "code",
   "execution_count": null,
   "metadata": {},
   "outputs": [],
   "source": [
    "#CP code\n",
    "from sys import stdin, stdout\n",
    "\n",
    "def minimumJumps(arr, pos, des):\n",
    "    if pos == des:\n",
    "        return 0\n",
    "    \n",
    "    if arr[pos] == 0:\n",
    "        return float('inf')\n",
    "    \n",
    "    min = float('inf')\n",
    "    for i in range(pos + 1, des + 1):\n",
    "        if(i < pos + arr[pos] + 1):\n",
    "            jumps = minimumJumps(arr, i, des)\n",
    "            \n",
    "            if (jumps != float('inf') and jumps + 1 < min):\n",
    "                min = jumps + 1\n",
    "                \n",
    "    return min\n",
    "\n",
    "if __name__ == \"__main__\":\n",
    "    input = stdin.read().strip().splitlines()\n",
    "    n = int(input[0])\n",
    "    arr = list(map(int, input[1].strip().split()))\n",
    "    \n",
    "    min_jumps = minimumJumps(arr, 0, n - 1)\n",
    "    \n",
    "    print(min_jumps)"
   ]
  },
  {
   "cell_type": "code",
   "execution_count": 15,
   "metadata": {},
   "outputs": [
    {
     "name": "stdout",
     "output_type": "stream",
     "text": [
      "3\n"
     ]
    }
   ],
   "source": [
    "#User code\n",
    "\n",
    "def minimumJumps(arr, pos, des):\n",
    "    if pos == des:\n",
    "        return 0\n",
    "    \n",
    "    if arr[pos] == 0:\n",
    "        return float('inf')\n",
    "    \n",
    "    min = float('inf')\n",
    "    for i in range(pos + 1, des + 1):\n",
    "        if(i < pos + arr[pos] + 1):\n",
    "            jumps = minimumJumps(arr, i, des)\n",
    "            \n",
    "            if (jumps != float('inf') and jumps + 1 < min):\n",
    "                min = jumps + 1\n",
    "                \n",
    "    return min\n",
    "\n",
    "if __name__ == \"__main__\":\n",
    "    n = int(input())\n",
    "    arr = list(map(int, input().strip().split()))\n",
    "    \n",
    "    min_jumps = minimumJumps(arr, 0, n - 1)\n",
    "    \n",
    "    print(min_jumps)"
   ]
  }
 ],
 "metadata": {
  "kernelspec": {
   "display_name": "DSA",
   "language": "python",
   "name": "python3"
  },
  "language_info": {
   "codemirror_mode": {
    "name": "ipython",
    "version": 3
   },
   "file_extension": ".py",
   "mimetype": "text/x-python",
   "name": "python",
   "nbconvert_exporter": "python",
   "pygments_lexer": "ipython3",
   "version": "3.12.7"
  }
 },
 "nbformat": 4,
 "nbformat_minor": 2
}
