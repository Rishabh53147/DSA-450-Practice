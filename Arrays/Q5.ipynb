{
 "cells": [
  {
   "cell_type": "markdown",
   "metadata": {},
   "source": [
    "## Union and Intersection of Two Sorted Arrays"
   ]
  },
  {
   "cell_type": "code",
   "execution_count": null,
   "metadata": {},
   "outputs": [],
   "source": [
    "##CP code\n",
    "from sys import stdin, stdout\n",
    "\n",
    "def Union(arr1, arr2):\n",
    "    union_arr = []\n",
    "    for i in arr1:\n",
    "        if i not in union_arr:\n",
    "            union_arr.append(i)\n",
    "    for j in arr2:\n",
    "        if j not in union_arr:\n",
    "            union_arr.append(j)\n",
    "            \n",
    "    return union_arr\n",
    "\n",
    "def Intersection(arr1, arr2):\n",
    "    intersection_arr = []\n",
    "    for i in arr1:\n",
    "        if i in arr2 and i not in intersection_arr:\n",
    "            intersection_arr.append(i)\n",
    "            \n",
    "    return intersection_arr\n",
    "\n",
    "if __name__ == \"__main__\":\n",
    "    input = stdin.read().strip().splitlines()\n",
    "    \n",
    "    arr1 = list(map(int, input[0].strip().split()))\n",
    "    \n",
    "    arr2 = list(map(int, input[1].strip().split()))\n",
    "    \n",
    "    union_arr = Union(arr1, arr2)\n",
    "    intersection_arr = Intersection(arr1, arr2)\n",
    "    \n",
    "    print(\" \".join(map(str, union_arr)))\n",
    "    print(\" \".join(map(str, intersection_arr)))"
   ]
  },
  {
   "cell_type": "code",
   "execution_count": 3,
   "metadata": {},
   "outputs": [
    {
     "name": "stdout",
     "output_type": "stream",
     "text": [
      "1 2 3 4 5 6 7\n",
      "3 4 5\n"
     ]
    }
   ],
   "source": [
    "##User code\n",
    "def Union(arr1, arr2):\n",
    "    union_arr = []\n",
    "    for i in arr1:\n",
    "        if i not in union_arr:\n",
    "            union_arr.append(i)\n",
    "    for j in arr2:\n",
    "        if j not in union_arr:\n",
    "            union_arr.append(j)\n",
    "            \n",
    "    return union_arr\n",
    "\n",
    "def Intersection(arr1, arr2):\n",
    "    intersection_arr = []\n",
    "    for i in arr1:\n",
    "        if i in arr2 and i not in intersection_arr:\n",
    "            intersection_arr.append(i)\n",
    "            \n",
    "    return intersection_arr\n",
    "\n",
    "if __name__ == \"__main__\":\n",
    "    arr1_input = input()\n",
    "    arr2_input = input()\n",
    "    arr1 = list(map(int, arr1_input.strip().split()))\n",
    "    \n",
    "    arr2 = list(map(int, arr2_input.strip().split()))\n",
    "    \n",
    "    union_arr = Union(arr1, arr2)\n",
    "    intersection_arr = Intersection(arr1, arr2)\n",
    "    \n",
    "    print(\" \".join(map(str, union_arr)))\n",
    "    print(\" \".join(map(str, intersection_arr)))"
   ]
  }
 ],
 "metadata": {
  "kernelspec": {
   "display_name": "DSA",
   "language": "python",
   "name": "python3"
  },
  "language_info": {
   "codemirror_mode": {
    "name": "ipython",
    "version": 3
   },
   "file_extension": ".py",
   "mimetype": "text/x-python",
   "name": "python",
   "nbconvert_exporter": "python",
   "pygments_lexer": "ipython3",
   "version": "3.12.7"
  }
 },
 "nbformat": 4,
 "nbformat_minor": 2
}
