{
 "cells": [
  {
   "cell_type": "markdown",
   "metadata": {},
   "source": [
    "## Find Duplicate in an Array of size N + 1 where the elements range between (1, N)"
   ]
  },
  {
   "cell_type": "code",
   "execution_count": null,
   "metadata": {},
   "outputs": [],
   "source": [
    "##CP code\n",
    "\n",
    "from sys import stdin, stdout\n",
    "\n",
    "def CheckDuplicate(arr):\n",
    "    slow = arr[0]\n",
    "    fast = arr[0]\n",
    "    \n",
    "    while True:\n",
    "        slow = arr[slow]\n",
    "        fast = arr[arr[fast]]\n",
    "        if slow == fast:\n",
    "            break\n",
    "        \n",
    "    ptr1 = arr[0]\n",
    "    ptr2 = slow\n",
    "    while ptr1 != ptr2:\n",
    "        ptr1 = arr[ptr1]\n",
    "        ptr2 = arr[ptr2]\n",
    "        \n",
    "    return ptr1\n",
    "        \n",
    "if __name__ == \"__main__\":\n",
    "    arr = list(map(int, stdin.read().strip.split()))\n",
    "    duplicate = CheckDuplicate(arr)\n",
    "    print(duplicate)\n",
    "    print(CheckDuplicate(arr))\n",
    "        \n",
    "    "
   ]
  },
  {
   "cell_type": "code",
   "execution_count": 7,
   "metadata": {},
   "outputs": [
    {
     "name": "stdout",
     "output_type": "stream",
     "text": [
      "9\n"
     ]
    }
   ],
   "source": [
    "##User code\n",
    "\n",
    "def CheckDuplicate(arr):\n",
    "    slow = arr[0]\n",
    "    fast = arr[0]\n",
    "    \n",
    "    while True:\n",
    "        slow = arr[slow]\n",
    "        fast = arr[arr[fast]]\n",
    "        if slow == fast:\n",
    "            break\n",
    "        \n",
    "    ptr1 = arr[0]\n",
    "    ptr2 = slow\n",
    "    while ptr1 != ptr2:\n",
    "        ptr1 = arr[ptr1]\n",
    "        ptr2 = arr[ptr2]\n",
    "        \n",
    "    return ptr1\n",
    "        \n",
    "if __name__ == \"__main__\":\n",
    "    arr = [2,5,9,6,9,3,8,9,7,1]\n",
    "    duplicate = CheckDuplicate(arr)\n",
    "    print(duplicate)\n",
    "        \n",
    "    "
   ]
  }
 ],
 "metadata": {
  "kernelspec": {
   "display_name": "DSA",
   "language": "python",
   "name": "python3"
  },
  "language_info": {
   "codemirror_mode": {
    "name": "ipython",
    "version": 3
   },
   "file_extension": ".py",
   "mimetype": "text/x-python",
   "name": "python",
   "nbconvert_exporter": "python",
   "pygments_lexer": "ipython3",
   "version": "3.12.7"
  }
 },
 "nbformat": 4,
 "nbformat_minor": 2
}
