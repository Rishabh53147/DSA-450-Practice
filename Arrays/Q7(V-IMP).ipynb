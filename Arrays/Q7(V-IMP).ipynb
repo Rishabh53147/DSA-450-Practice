{
 "cells": [
  {
   "cell_type": "markdown",
   "metadata": {},
   "source": [
    "## Largest Sum Continous subarray"
   ]
  },
  {
   "cell_type": "code",
   "execution_count": null,
   "metadata": {},
   "outputs": [],
   "source": [
    "#CP code\n",
    "from sys import stdin, stdout\n",
    "\n",
    "def largestSumSubarray(arr, n):\n",
    "    curr = arr[0]\n",
    "    res = arr[0]\n",
    "    \n",
    "    for i in range(1, n):\n",
    "        curr = max(curr + arr[i], arr[i])\n",
    "        \n",
    "        res = max(res, curr)\n",
    "        \n",
    "    return res\n",
    "\n",
    "\n",
    "if __name__ == \"__main__\":\n",
    "    input = stdin.read().strip().splitlines()\n",
    "    n = int(input[0])\n",
    "    arr = list(map(int, input[1].strip().split()))\n",
    "    \n",
    "    res = largestSumSubarray(arr, n)\n",
    "    \n",
    "    stdout.write(res)"
   ]
  },
  {
   "cell_type": "code",
   "execution_count": 3,
   "metadata": {},
   "outputs": [
    {
     "name": "stdout",
     "output_type": "stream",
     "text": [
      "17\n"
     ]
    }
   ],
   "source": [
    "#User code\n",
    "\n",
    "def largestSumSubarray(arr, n):\n",
    "    curr = arr[0]\n",
    "    res = arr[0]\n",
    "    \n",
    "    for i in range(1, n):\n",
    "        curr = max(curr + arr[i], arr[i])\n",
    "        \n",
    "        res = max(res, curr)\n",
    "        \n",
    "    return res\n",
    "\n",
    "if __name__ == \"__main__\":\n",
    "    n = int(input(0))\n",
    "    arr = list(map(int, input(1).strip().split()))\n",
    "    \n",
    "    res = largestSumSubarray(arr, n)\n",
    "    \n",
    "    print(res)"
   ]
  }
 ],
 "metadata": {
  "kernelspec": {
   "display_name": "DSA",
   "language": "python",
   "name": "python3"
  },
  "language_info": {
   "codemirror_mode": {
    "name": "ipython",
    "version": 3
   },
   "file_extension": ".py",
   "mimetype": "text/x-python",
   "name": "python",
   "nbconvert_exporter": "python",
   "pygments_lexer": "ipython3",
   "version": "3.12.7"
  }
 },
 "nbformat": 4,
 "nbformat_minor": 2
}
