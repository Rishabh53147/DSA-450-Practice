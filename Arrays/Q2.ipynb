{
 "cells": [
  {
   "cell_type": "markdown",
   "metadata": {},
   "source": [
    "## Kth Largest and Smallest in an Array"
   ]
  },
  {
   "cell_type": "code",
   "execution_count": null,
   "metadata": {},
   "outputs": [],
   "source": [
    "## CP Code\n",
    "from sys import stdin, stdout\n",
    "\n",
    "def BubbleSort(arr, n=None):\n",
    "    if n is None:\n",
    "        n = len(arr)\n",
    "\n",
    "    if n <= 1:\n",
    "        return\n",
    "    \n",
    "    for i in range(n - 1):\n",
    "        if arr[i] > arr[i + 1]:\n",
    "            arr[i], arr[i + 1] = arr[i + 1], arr[i]\n",
    "    \n",
    "    BubbleSort(arr, n - 1)\n",
    "\n",
    "def kth_largest_and_smallest(arr, k):\n",
    "    BubbleSort(arr)\n",
    "    \n",
    "    if k <= 0 or k > len(arr):\n",
    "        return None, None\n",
    "    \n",
    "    kth_smallest = arr[k - 1]\n",
    "    kth_largest = arr[-k]\n",
    "\n",
    "    return [kth_smallest, kth_largest]\n",
    "\n",
    "if __name__ == \"__main__\":\n",
    "    input = stdin.read().strip().splitlines()\n",
    "    k = int(input[0])\n",
    "    arr = list(map(int, input[1].strip().split()))\n",
    "\n",
    "    result = kth_largest_and_smallest(arr, k)\n",
    "\n",
    "    print(\" \".join(map(str, result)))\n"
   ]
  },
  {
   "cell_type": "code",
   "execution_count": 1,
   "metadata": {},
   "outputs": [
    {
     "name": "stdout",
     "output_type": "stream",
     "text": [
      "2 8\n"
     ]
    }
   ],
   "source": [
    "## User Code\n",
    "from sys import stdin, stdout\n",
    "\n",
    "def BubbleSort(arr, n=None):\n",
    "    if n is None:\n",
    "        n = len(arr)\n",
    "\n",
    "    if n <= 1:\n",
    "        return\n",
    "    \n",
    "    for i in range(n - 1):\n",
    "        if arr[i] > arr[i + 1]:\n",
    "            arr[i], arr[i + 1] = arr[i + 1], arr[i]\n",
    "    \n",
    "    BubbleSort(arr, n - 1)\n",
    "\n",
    "def kth_largest_and_smallest(arr, k):\n",
    "    BubbleSort(arr)\n",
    "    \n",
    "    if k <= 0 or k > len(arr):\n",
    "        return None, None\n",
    "    \n",
    "    kth_smallest = arr[k - 1]\n",
    "    kth_largest = arr[-k]\n",
    "\n",
    "    return [kth_smallest, kth_largest]\n",
    "\n",
    "if __name__ == \"__main__\":\n",
    "    k = int(input())\n",
    "    arr_input = input()\n",
    "    arr = list(map(int, arr_input.strip().split()))\n",
    "\n",
    "    result = kth_largest_and_smallest(arr, k)\n",
    "\n",
    "    print(\" \".join(map(str, result)))\n"
   ]
  }
 ],
 "metadata": {
  "kernelspec": {
   "display_name": "DSA",
   "language": "python",
   "name": "python3"
  },
  "language_info": {
   "codemirror_mode": {
    "name": "ipython",
    "version": 3
   },
   "file_extension": ".py",
   "mimetype": "text/x-python",
   "name": "python",
   "nbconvert_exporter": "python",
   "pygments_lexer": "ipython3",
   "version": "3.12.7"
  }
 },
 "nbformat": 4,
 "nbformat_minor": 2
}
