{
 "cells": [
  {
   "cell_type": "markdown",
   "metadata": {},
   "source": [
    "## Minimize the maximum difference between the heights"
   ]
  },
  {
   "cell_type": "code",
   "execution_count": null,
   "metadata": {},
   "outputs": [
    {
     "name": "stdout",
     "output_type": "stream",
     "text": [
      "3\n"
     ]
    }
   ],
   "source": [
    "#CP code\n",
    "from sys import stdin, stdout\n",
    "\n",
    "def sort(arr, n): \n",
    "    if n <= 1:\n",
    "        return arr\n",
    "\n",
    "    for i in range(n - 1):\n",
    "        if arr[i] > arr[i + 1]:\n",
    "            arr[i], arr[i + 1] = arr[i + 1], arr[i]\n",
    "    \n",
    "    return sort(arr, n - 1)\n",
    "    \n",
    "\n",
    "def MinimalDifference(arr, k ,n):\n",
    "    sorted_arr = sort(arr, n)\n",
    "    \n",
    "    result = sorted_arr[n - 1] - sorted_arr[0]\n",
    "    \n",
    "    for i in range(1, n):\n",
    "        if sorted_arr[i] - k < 0:\n",
    "            continue\n",
    "        \n",
    "        minhigh = min(sorted_arr[0] + k, sorted_arr[i] - k)\n",
    "        \n",
    "        maxhigh = max(sorted_arr[i - 1] + k, sorted_arr[n - 1] - k)\n",
    "        \n",
    "        result = min(result, maxhigh - minhigh)\n",
    "        \n",
    "    return result\n",
    "\n",
    "if __name__ == \"__main__\":\n",
    "    input = stdin.read().strip.splitlines()\n",
    "    n = int(input[0])\n",
    "    arr = list(map(int, input[1].strip().split()))\n",
    "    k = int(input[2])\n",
    "    \n",
    "    result = MinimalDifference(arr, k, n)\n",
    "    \n",
    "    print(result)"
   ]
  },
  {
   "cell_type": "code",
   "execution_count": 2,
   "metadata": {},
   "outputs": [
    {
     "name": "stdout",
     "output_type": "stream",
     "text": [
      "8\n"
     ]
    }
   ],
   "source": [
    "#User Code\n",
    "\n",
    "def sort(arr, n): \n",
    "    if n <= 1:\n",
    "        return arr\n",
    "\n",
    "    for i in range(n - 1):\n",
    "        if arr[i] > arr[i + 1]:\n",
    "            arr[i], arr[i + 1] = arr[i + 1], arr[i]\n",
    "    \n",
    "    return sort(arr, n - 1)\n",
    "    \n",
    "\n",
    "def MinimalDifference(arr, k ,n):\n",
    "    sorted_arr = sort(arr, n)\n",
    "    \n",
    "    result = sorted_arr[n - 1] - sorted_arr[0]\n",
    "    \n",
    "    for i in range(1, n):\n",
    "        if sorted_arr[i] - k < 0:\n",
    "            continue\n",
    "        \n",
    "        minhigh = min(sorted_arr[0] + k, sorted_arr[i] - k)\n",
    "        \n",
    "        maxhigh = max(sorted_arr[i - 1] + k, sorted_arr[n - 1] - k)\n",
    "        \n",
    "        result = min(result, maxhigh - minhigh)\n",
    "        \n",
    "    return result\n",
    "\n",
    "if __name__ == \"__main__\":\n",
    "    n = int(input(0))\n",
    "    arr = list(map(int, input().strip().split()))\n",
    "    k = int(input())\n",
    "    \n",
    "    result = MinimalDifference(arr, k, n)\n",
    "    \n",
    "    print(result)"
   ]
  }
 ],
 "metadata": {
  "kernelspec": {
   "display_name": "DSA",
   "language": "python",
   "name": "python3"
  },
  "language_info": {
   "codemirror_mode": {
    "name": "ipython",
    "version": 3
   },
   "file_extension": ".py",
   "mimetype": "text/x-python",
   "name": "python",
   "nbconvert_exporter": "python",
   "pygments_lexer": "ipython3",
   "version": "3.12.7"
  }
 },
 "nbformat": 4,
 "nbformat_minor": 2
}
